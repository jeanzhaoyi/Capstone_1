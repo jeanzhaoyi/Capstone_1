{
 "cells": [
  {
   "cell_type": "code",
   "execution_count": 1,
   "metadata": {
    "collapsed": true
   },
   "outputs": [],
   "source": [
    "from lxml import html  \n",
    "import json\n",
    "import requests\n",
    "import json,re\n",
    "from dateutil import parser as dateparser\n",
    "from time import sleep"
   ]
  },
  {
   "cell_type": "code",
   "execution_count": 2,
   "metadata": {
    "collapsed": true
   },
   "outputs": [],
   "source": [
    "url = \"https://www.amazon.com/b?node=8192263011\"\n",
    "\n",
    "headers = {'User-Agent': 'Mozilla/5.0 (X11; Linux x86_64) AppleWebKit/537.36 (KHTML, like Gecko) Chrome/42.0.2311.90 Safari/537.36'}\n",
    "page = requests.get(url,headers = headers) # this is the review page, not the product page\n",
    "\n"
   ]
  },
  {
   "cell_type": "code",
   "execution_count": 3,
   "metadata": {
    "collapsed": true
   },
   "outputs": [],
   "source": [
    "parser = html.fromstring(page.text) \n"
   ]
  },
  {
   "cell_type": "code",
   "execution_count": 11,
   "metadata": {
    "collapsed": false
   },
   "outputs": [
    {
     "name": "stdout",
     "output_type": "stream",
     "text": [
      "['/gp/product-reviews/0451524934/ref=s9_acsd_al_bw_c_x_1_r_w/153-2693271-3474034?pf_rd_m=ATVPDKIKX0DER&pf_rd_s=merchandised-search-4&pf_rd_r=GQHK3K372GZ2DYPZCTT8&pf_rd_r=GQHK3K372GZ2DYPZCTT8&pf_rd_t=101&pf_rd_p=fc70d3c2-a39b-4dc5-8432-ecb429c303dc&pf_rd_p=fc70d3c2-a39b-4dc5-8432-ecb429c303dc&pf_rd_i=8192263011', '/gp/product-reviews/0553380168/ref=s9_acsd_al_bw_c_x_2_r_w/153-2693271-3474034?pf_rd_m=ATVPDKIKX0DER&pf_rd_s=merchandised-search-4&pf_rd_r=GQHK3K372GZ2DYPZCTT8&pf_rd_r=GQHK3K372GZ2DYPZCTT8&pf_rd_t=101&pf_rd_p=fc70d3c2-a39b-4dc5-8432-ecb429c303dc&pf_rd_p=fc70d3c2-a39b-4dc5-8432-ecb429c303dc&pf_rd_i=8192263011', '/gp/product-reviews/0375725784/ref=s9_acsd_al_bw_c_x_3_r_w/153-2693271-3474034?pf_rd_m=ATVPDKIKX0DER&pf_rd_s=merchandised-search-4&pf_rd_r=GQHK3K372GZ2DYPZCTT8&pf_rd_r=GQHK3K372GZ2DYPZCTT8&pf_rd_t=101&pf_rd_p=fc70d3c2-a39b-4dc5-8432-ecb429c303dc&pf_rd_p=fc70d3c2-a39b-4dc5-8432-ecb429c303dc&pf_rd_i=8192263011', '/gp/product-reviews/0374531269/ref=s9_acsd_al_bw_c_x_4_r_w/153-2693271-3474034?pf_rd_m=ATVPDKIKX0DER&pf_rd_s=merchandised-search-4&pf_rd_r=GQHK3K372GZ2DYPZCTT8&pf_rd_r=GQHK3K372GZ2DYPZCTT8&pf_rd_t=101&pf_rd_p=fc70d3c2-a39b-4dc5-8432-ecb429c303dc&pf_rd_p=fc70d3c2-a39b-4dc5-8432-ecb429c303dc&pf_rd_i=8192263011', '/gp/product-reviews/0061146307/ref=s9_acsd_al_bw_c_x_5_r_w/153-2693271-3474034?pf_rd_m=ATVPDKIKX0DER&pf_rd_s=merchandised-search-4&pf_rd_r=GQHK3K372GZ2DYPZCTT8&pf_rd_r=GQHK3K372GZ2DYPZCTT8&pf_rd_t=101&pf_rd_p=fc70d3c2-a39b-4dc5-8432-ecb429c303dc&pf_rd_p=fc70d3c2-a39b-4dc5-8432-ecb429c303dc&pf_rd_i=8192263011', '/gp/product-reviews/0312367554/ref=s9_acsd_al_bw_c_x_6_r_w/153-2693271-3474034?pf_rd_m=ATVPDKIKX0DER&pf_rd_s=merchandised-search-4&pf_rd_r=GQHK3K372GZ2DYPZCTT8&pf_rd_r=GQHK3K372GZ2DYPZCTT8&pf_rd_t=101&pf_rd_p=fc70d3c2-a39b-4dc5-8432-ecb429c303dc&pf_rd_p=fc70d3c2-a39b-4dc5-8432-ecb429c303dc&pf_rd_i=8192263011', '/gp/product-reviews/067976674X/ref=s9_acsd_al_bw_c_x_7_r_w/153-2693271-3474034?pf_rd_m=ATVPDKIKX0DER&pf_rd_s=merchandised-search-4&pf_rd_r=GQHK3K372GZ2DYPZCTT8&pf_rd_r=GQHK3K372GZ2DYPZCTT8&pf_rd_t=101&pf_rd_p=fc70d3c2-a39b-4dc5-8432-ecb429c303dc&pf_rd_p=fc70d3c2-a39b-4dc5-8432-ecb429c303dc&pf_rd_i=8192263011', '/gp/product-reviews/0553213458/ref=s9_acsd_al_bw_c_x_1_r_w/153-2693271-3474034?pf_rd_m=ATVPDKIKX0DER&pf_rd_s=merchandised-search-4&pf_rd_r=GQHK3K372GZ2DYPZCTT8&pf_rd_r=GQHK3K372GZ2DYPZCTT8&pf_rd_t=101&pf_rd_p=fc70d3c2-a39b-4dc5-8432-ecb429c303dc&pf_rd_p=fc70d3c2-a39b-4dc5-8432-ecb429c303dc&pf_rd_i=8192263011', '/gp/product-reviews/0671894412/ref=s9_acsd_al_bw_c_x_2_r_w/153-2693271-3474034?pf_rd_m=ATVPDKIKX0DER&pf_rd_s=merchandised-search-4&pf_rd_r=GQHK3K372GZ2DYPZCTT8&pf_rd_r=GQHK3K372GZ2DYPZCTT8&pf_rd_t=101&pf_rd_p=fc70d3c2-a39b-4dc5-8432-ecb429c303dc&pf_rd_p=fc70d3c2-a39b-4dc5-8432-ecb429c303dc&pf_rd_i=8192263011', '/gp/product-reviews/068484267X/ref=s9_acsd_al_bw_c_x_3_r_w/153-2693271-3474034?pf_rd_m=ATVPDKIKX0DER&pf_rd_s=merchandised-search-4&pf_rd_r=GQHK3K372GZ2DYPZCTT8&pf_rd_r=GQHK3K372GZ2DYPZCTT8&pf_rd_t=101&pf_rd_p=fc70d3c2-a39b-4dc5-8432-ecb429c303dc&pf_rd_p=fc70d3c2-a39b-4dc5-8432-ecb429c303dc&pf_rd_i=8192263011', '/gp/product-reviews/0385739869/ref=s9_acsd_al_bw_c_x_4_r_w/153-2693271-3474034?pf_rd_m=ATVPDKIKX0DER&pf_rd_s=merchandised-search-4&pf_rd_r=GQHK3K372GZ2DYPZCTT8&pf_rd_r=GQHK3K372GZ2DYPZCTT8&pf_rd_t=101&pf_rd_p=fc70d3c2-a39b-4dc5-8432-ecb429c303dc&pf_rd_p=fc70d3c2-a39b-4dc5-8432-ecb429c303dc&pf_rd_i=8192263011', '/gp/product-reviews/0061565318/ref=s9_acsd_al_bw_c_x_5_r_w/153-2693271-3474034?pf_rd_m=ATVPDKIKX0DER&pf_rd_s=merchandised-search-4&pf_rd_r=GQHK3K372GZ2DYPZCTT8&pf_rd_r=GQHK3K372GZ2DYPZCTT8&pf_rd_t=101&pf_rd_p=fc70d3c2-a39b-4dc5-8432-ecb429c303dc&pf_rd_p=fc70d3c2-a39b-4dc5-8432-ecb429c303dc&pf_rd_i=8192263011', '/gp/product-reviews/1400033411/ref=s9_acsd_al_bw_c_x_6_r_w/153-2693271-3474034?pf_rd_m=ATVPDKIKX0DER&pf_rd_s=merchandised-search-4&pf_rd_r=GQHK3K372GZ2DYPZCTT8&pf_rd_r=GQHK3K372GZ2DYPZCTT8&pf_rd_t=101&pf_rd_p=fc70d3c2-a39b-4dc5-8432-ecb429c303dc&pf_rd_p=fc70d3c2-a39b-4dc5-8432-ecb429c303dc&pf_rd_i=8192263011', '/gp/product-reviews/0307279189/ref=s9_acsd_al_bw_c_x_7_r_w/153-2693271-3474034?pf_rd_m=ATVPDKIKX0DER&pf_rd_s=merchandised-search-4&pf_rd_r=GQHK3K372GZ2DYPZCTT8&pf_rd_r=GQHK3K372GZ2DYPZCTT8&pf_rd_t=101&pf_rd_p=fc70d3c2-a39b-4dc5-8432-ecb429c303dc&pf_rd_p=fc70d3c2-a39b-4dc5-8432-ecb429c303dc&pf_rd_i=8192263011', '/gp/product-reviews/037570504X/ref=s9_acsd_al_bw_c_x_1_r_w/153-2693271-3474034?pf_rd_m=ATVPDKIKX0DER&pf_rd_s=merchandised-search-4&pf_rd_r=GQHK3K372GZ2DYPZCTT8&pf_rd_r=GQHK3K372GZ2DYPZCTT8&pf_rd_t=101&pf_rd_p=fc70d3c2-a39b-4dc5-8432-ecb429c303dc&pf_rd_p=fc70d3c2-a39b-4dc5-8432-ecb429c303dc&pf_rd_i=8192263011', '/gp/product-reviews/1451626657/ref=s9_acsd_al_bw_c_x_2_r_w/153-2693271-3474034?pf_rd_m=ATVPDKIKX0DER&pf_rd_s=merchandised-search-4&pf_rd_r=GQHK3K372GZ2DYPZCTT8&pf_rd_r=GQHK3K372GZ2DYPZCTT8&pf_rd_t=101&pf_rd_p=fc70d3c2-a39b-4dc5-8432-ecb429c303dc&pf_rd_p=fc70d3c2-a39b-4dc5-8432-ecb429c303dc&pf_rd_i=8192263011', '/gp/product-reviews/0375815260/ref=s9_acsd_al_bw_c_x_3_r_w/153-2693271-3474034?pf_rd_m=ATVPDKIKX0DER&pf_rd_s=merchandised-search-4&pf_rd_r=GQHK3K372GZ2DYPZCTT8&pf_rd_r=GQHK3K372GZ2DYPZCTT8&pf_rd_t=101&pf_rd_p=fc70d3c2-a39b-4dc5-8432-ecb429c303dc&pf_rd_p=fc70d3c2-a39b-4dc5-8432-ecb429c303dc&pf_rd_i=8192263011', '/gp/product-reviews/0061124958/ref=s9_acsd_al_bw_c_x_4_r_w/153-2693271-3474034?pf_rd_m=ATVPDKIKX0DER&pf_rd_s=merchandised-search-4&pf_rd_r=GQHK3K372GZ2DYPZCTT8&pf_rd_r=GQHK3K372GZ2DYPZCTT8&pf_rd_t=101&pf_rd_p=fc70d3c2-a39b-4dc5-8432-ecb429c303dc&pf_rd_p=fc70d3c2-a39b-4dc5-8432-ecb429c303dc&pf_rd_i=8192263011', '/gp/product-reviews/0375714367/ref=s9_acsd_al_bw_c_x_5_r_w/153-2693271-3474034?pf_rd_m=ATVPDKIKX0DER&pf_rd_s=merchandised-search-4&pf_rd_r=GQHK3K372GZ2DYPZCTT8&pf_rd_r=GQHK3K372GZ2DYPZCTT8&pf_rd_t=101&pf_rd_p=fc70d3c2-a39b-4dc5-8432-ecb429c303dc&pf_rd_p=fc70d3c2-a39b-4dc5-8432-ecb429c303dc&pf_rd_i=8192263011', '/gp/product-reviews/1592407331/ref=s9_acsd_al_bw_c_x_6_r_w/153-2693271-3474034?pf_rd_m=ATVPDKIKX0DER&pf_rd_s=merchandised-search-4&pf_rd_r=GQHK3K372GZ2DYPZCTT8&pf_rd_r=GQHK3K372GZ2DYPZCTT8&pf_rd_t=101&pf_rd_p=fc70d3c2-a39b-4dc5-8432-ecb429c303dc&pf_rd_p=fc70d3c2-a39b-4dc5-8432-ecb429c303dc&pf_rd_i=8192263011', '/gp/product-reviews/0810993139/ref=s9_acsd_al_bw_c_x_1_r_w/153-2693271-3474034?pf_rd_m=ATVPDKIKX0DER&pf_rd_s=merchandised-search-5&pf_rd_r=GQHK3K372GZ2DYPZCTT8&pf_rd_r=GQHK3K372GZ2DYPZCTT8&pf_rd_t=101&pf_rd_p=36c4efe0-e91b-4e14-b48c-1e660bcfb258&pf_rd_p=36c4efe0-e91b-4e14-b48c-1e660bcfb258&pf_rd_i=8192263011', '/gp/product-reviews/0441013597/ref=s9_acsd_al_bw_c_x_2_r_w/153-2693271-3474034?pf_rd_m=ATVPDKIKX0DER&pf_rd_s=merchandised-search-5&pf_rd_r=GQHK3K372GZ2DYPZCTT8&pf_rd_r=GQHK3K372GZ2DYPZCTT8&pf_rd_t=101&pf_rd_p=36c4efe0-e91b-4e14-b48c-1e660bcfb258&pf_rd_p=36c4efe0-e91b-4e14-b48c-1e660bcfb258&pf_rd_i=8192263011', '/gp/product-reviews/1451673310/ref=s9_acsd_al_bw_c_x_3_r_w/153-2693271-3474034?pf_rd_m=ATVPDKIKX0DER&pf_rd_s=merchandised-search-5&pf_rd_r=GQHK3K372GZ2DYPZCTT8&pf_rd_r=GQHK3K372GZ2DYPZCTT8&pf_rd_t=101&pf_rd_p=36c4efe0-e91b-4e14-b48c-1e660bcfb258&pf_rd_p=36c4efe0-e91b-4e14-b48c-1e660bcfb258&pf_rd_i=8192263011', '/gp/product-reviews/0679785892/ref=s9_acsd_al_bw_c_x_4_r_w/153-2693271-3474034?pf_rd_m=ATVPDKIKX0DER&pf_rd_s=merchandised-search-5&pf_rd_r=GQHK3K372GZ2DYPZCTT8&pf_rd_r=GQHK3K372GZ2DYPZCTT8&pf_rd_t=101&pf_rd_p=36c4efe0-e91b-4e14-b48c-1e660bcfb258&pf_rd_p=36c4efe0-e91b-4e14-b48c-1e660bcfb258&pf_rd_i=8192263011', '/gp/product-reviews/0307588378/ref=s9_acsd_al_bw_c_x_5_r_w/153-2693271-3474034?pf_rd_m=ATVPDKIKX0DER&pf_rd_s=merchandised-search-5&pf_rd_r=GQHK3K372GZ2DYPZCTT8&pf_rd_r=GQHK3K372GZ2DYPZCTT8&pf_rd_t=101&pf_rd_p=36c4efe0-e91b-4e14-b48c-1e660bcfb258&pf_rd_p=36c4efe0-e91b-4e14-b48c-1e660bcfb258&pf_rd_i=8192263011', '/gp/product-reviews/0060775858/ref=s9_acsd_al_bw_c_x_6_r_w/153-2693271-3474034?pf_rd_m=ATVPDKIKX0DER&pf_rd_s=merchandised-search-5&pf_rd_r=GQHK3K372GZ2DYPZCTT8&pf_rd_r=GQHK3K372GZ2DYPZCTT8&pf_rd_t=101&pf_rd_p=36c4efe0-e91b-4e14-b48c-1e660bcfb258&pf_rd_p=36c4efe0-e91b-4e14-b48c-1e660bcfb258&pf_rd_i=8192263011', '/gp/product-reviews/0486415864/ref=s9_acsd_al_bw_c_x_7_r_w/153-2693271-3474034?pf_rd_m=ATVPDKIKX0DER&pf_rd_s=merchandised-search-5&pf_rd_r=GQHK3K372GZ2DYPZCTT8&pf_rd_r=GQHK3K372GZ2DYPZCTT8&pf_rd_t=101&pf_rd_p=36c4efe0-e91b-4e14-b48c-1e660bcfb258&pf_rd_p=36c4efe0-e91b-4e14-b48c-1e660bcfb258&pf_rd_i=8192263011', '/gp/product-reviews/0393061310/ref=s9_acsd_al_bw_c_x_1_r_w/153-2693271-3474034?pf_rd_m=ATVPDKIKX0DER&pf_rd_s=merchandised-search-5&pf_rd_r=GQHK3K372GZ2DYPZCTT8&pf_rd_r=GQHK3K372GZ2DYPZCTT8&pf_rd_t=101&pf_rd_p=36c4efe0-e91b-4e14-b48c-1e660bcfb258&pf_rd_p=36c4efe0-e91b-4e14-b48c-1e660bcfb258&pf_rd_i=8192263011', '/gp/product-reviews/059035342X/ref=s9_acsd_al_bw_c_x_2_r_w/153-2693271-3474034?pf_rd_m=ATVPDKIKX0DER&pf_rd_s=merchandised-search-5&pf_rd_r=GQHK3K372GZ2DYPZCTT8&pf_rd_r=GQHK3K372GZ2DYPZCTT8&pf_rd_t=101&pf_rd_p=36c4efe0-e91b-4e14-b48c-1e660bcfb258&pf_rd_p=36c4efe0-e91b-4e14-b48c-1e660bcfb258&pf_rd_i=8192263011', '/gp/product-reviews/0679745580/ref=s9_acsd_al_bw_c_x_3_r_w/153-2693271-3474034?pf_rd_m=ATVPDKIKX0DER&pf_rd_s=merchandised-search-5&pf_rd_r=GQHK3K372GZ2DYPZCTT8&pf_rd_r=GQHK3K372GZ2DYPZCTT8&pf_rd_t=101&pf_rd_p=36c4efe0-e91b-4e14-b48c-1e660bcfb258&pf_rd_p=36c4efe0-e91b-4e14-b48c-1e660bcfb258&pf_rd_i=8192263011', '/gp/product-reviews/039592720X/ref=s9_acsd_al_bw_c_x_4_r_w/153-2693271-3474034?pf_rd_m=ATVPDKIKX0DER&pf_rd_s=merchandised-search-5&pf_rd_r=GQHK3K372GZ2DYPZCTT8&pf_rd_r=GQHK3K372GZ2DYPZCTT8&pf_rd_t=101&pf_rd_p=36c4efe0-e91b-4e14-b48c-1e660bcfb258&pf_rd_p=36c4efe0-e91b-4e14-b48c-1e660bcfb258&pf_rd_i=8192263011', '/gp/product-reviews/0679732764/ref=s9_acsd_al_bw_c_x_5_r_w/153-2693271-3474034?pf_rd_m=ATVPDKIKX0DER&pf_rd_s=merchandised-search-5&pf_rd_r=GQHK3K372GZ2DYPZCTT8&pf_rd_r=GQHK3K372GZ2DYPZCTT8&pf_rd_t=101&pf_rd_p=36c4efe0-e91b-4e14-b48c-1e660bcfb258&pf_rd_p=36c4efe0-e91b-4e14-b48c-1e660bcfb258&pf_rd_i=8192263011', '/gp/product-reviews/0375714545/ref=s9_acsd_al_bw_c_x_6_r_w/153-2693271-3474034?pf_rd_m=ATVPDKIKX0DER&pf_rd_s=merchandised-search-5&pf_rd_r=GQHK3K372GZ2DYPZCTT8&pf_rd_r=GQHK3K372GZ2DYPZCTT8&pf_rd_t=101&pf_rd_p=36c4efe0-e91b-4e14-b48c-1e660bcfb258&pf_rd_p=36c4efe0-e91b-4e14-b48c-1e660bcfb258&pf_rd_i=8192263011', '/gp/product-reviews/0060899220/ref=s9_acsd_al_bw_c_x_7_r_w/153-2693271-3474034?pf_rd_m=ATVPDKIKX0DER&pf_rd_s=merchandised-search-5&pf_rd_r=GQHK3K372GZ2DYPZCTT8&pf_rd_r=GQHK3K372GZ2DYPZCTT8&pf_rd_t=101&pf_rd_p=36c4efe0-e91b-4e14-b48c-1e660bcfb258&pf_rd_p=36c4efe0-e91b-4e14-b48c-1e660bcfb258&pf_rd_i=8192263011', '/gp/product-reviews/0316176494/ref=s9_acsd_al_bw_c_x_1_r_w/153-2693271-3474034?pf_rd_m=ATVPDKIKX0DER&pf_rd_s=merchandised-search-5&pf_rd_r=GQHK3K372GZ2DYPZCTT8&pf_rd_r=GQHK3K372GZ2DYPZCTT8&pf_rd_t=101&pf_rd_p=36c4efe0-e91b-4e14-b48c-1e660bcfb258&pf_rd_p=36c4efe0-e91b-4e14-b48c-1e660bcfb258&pf_rd_i=8192263011', '/gp/product-reviews/0061958271/ref=s9_acsd_al_bw_c_x_2_r_w/153-2693271-3474034?pf_rd_m=ATVPDKIKX0DER&pf_rd_s=merchandised-search-5&pf_rd_r=GQHK3K372GZ2DYPZCTT8&pf_rd_r=GQHK3K372GZ2DYPZCTT8&pf_rd_t=101&pf_rd_p=36c4efe0-e91b-4e14-b48c-1e660bcfb258&pf_rd_p=36c4efe0-e91b-4e14-b48c-1e660bcfb258&pf_rd_i=8192263011', '/gp/product-reviews/0679410430/ref=s9_acsd_al_bw_c_x_3_r_w/153-2693271-3474034?pf_rd_m=ATVPDKIKX0DER&pf_rd_s=merchandised-search-5&pf_rd_r=GQHK3K372GZ2DYPZCTT8&pf_rd_r=GQHK3K372GZ2DYPZCTT8&pf_rd_t=101&pf_rd_p=36c4efe0-e91b-4e14-b48c-1e660bcfb258&pf_rd_p=36c4efe0-e91b-4e14-b48c-1e660bcfb258&pf_rd_i=8192263011', '/gp/product-reviews/0307389731/ref=s9_acsd_al_bw_c_x_4_r_w/153-2693271-3474034?pf_rd_m=ATVPDKIKX0DER&pf_rd_s=merchandised-search-5&pf_rd_r=GQHK3K372GZ2DYPZCTT8&pf_rd_r=GQHK3K372GZ2DYPZCTT8&pf_rd_t=101&pf_rd_p=36c4efe0-e91b-4e14-b48c-1e660bcfb258&pf_rd_p=36c4efe0-e91b-4e14-b48c-1e660bcfb258&pf_rd_i=8192263011', '/gp/product-reviews/0061787426/ref=s9_acsd_al_bw_c_x_5_r_w/153-2693271-3474034?pf_rd_m=ATVPDKIKX0DER&pf_rd_s=merchandised-search-5&pf_rd_r=GQHK3K372GZ2DYPZCTT8&pf_rd_r=GQHK3K372GZ2DYPZCTT8&pf_rd_t=101&pf_rd_p=36c4efe0-e91b-4e14-b48c-1e660bcfb258&pf_rd_p=36c4efe0-e91b-4e14-b48c-1e660bcfb258&pf_rd_i=8192263011', '/gp/product-reviews/0807014273/ref=s9_acsd_al_bw_c_x_6_r_w/153-2693271-3474034?pf_rd_m=ATVPDKIKX0DER&pf_rd_s=merchandised-search-5&pf_rd_r=GQHK3K372GZ2DYPZCTT8&pf_rd_r=GQHK3K372GZ2DYPZCTT8&pf_rd_t=101&pf_rd_p=36c4efe0-e91b-4e14-b48c-1e660bcfb258&pf_rd_p=36c4efe0-e91b-4e14-b48c-1e660bcfb258&pf_rd_i=8192263011', '/gp/product-reviews/0316776963/ref=s9_acsd_al_bw_c_x_1_r_w/153-2693271-3474034?pf_rd_m=ATVPDKIKX0DER&pf_rd_s=merchandised-search-6&pf_rd_r=GQHK3K372GZ2DYPZCTT8&pf_rd_r=GQHK3K372GZ2DYPZCTT8&pf_rd_t=101&pf_rd_p=20edff09-04d3-4c05-8f94-1125395019e2&pf_rd_p=20edff09-04d3-4c05-8f94-1125395019e2&pf_rd_i=8192263011', '/gp/product-reviews/0312427735/ref=s9_acsd_al_bw_c_x_2_r_w/153-2693271-3474034?pf_rd_m=ATVPDKIKX0DER&pf_rd_s=merchandised-search-6&pf_rd_r=GQHK3K372GZ2DYPZCTT8&pf_rd_r=GQHK3K372GZ2DYPZCTT8&pf_rd_t=101&pf_rd_p=20edff09-04d3-4c05-8f94-1125395019e2&pf_rd_p=20edff09-04d3-4c05-8f94-1125395019e2&pf_rd_i=8192263011', '/gp/product-reviews/0812976533/ref=s9_acsd_al_bw_c_x_3_r_w/153-2693271-3474034?pf_rd_m=ATVPDKIKX0DER&pf_rd_s=merchandised-search-6&pf_rd_r=GQHK3K372GZ2DYPZCTT8&pf_rd_r=GQHK3K372GZ2DYPZCTT8&pf_rd_t=101&pf_rd_p=20edff09-04d3-4c05-8f94-1125395019e2&pf_rd_p=20edff09-04d3-4c05-8f94-1125395019e2&pf_rd_i=8192263011', '/gp/product-reviews/0393324818/ref=s9_acsd_al_bw_c_x_4_r_w/153-2693271-3474034?pf_rd_m=ATVPDKIKX0DER&pf_rd_s=merchandised-search-6&pf_rd_r=GQHK3K372GZ2DYPZCTT8&pf_rd_r=GQHK3K372GZ2DYPZCTT8&pf_rd_t=101&pf_rd_p=20edff09-04d3-4c05-8f94-1125395019e2&pf_rd_p=20edff09-04d3-4c05-8f94-1125395019e2&pf_rd_i=8192263011', '/gp/product-reviews/055321392X/ref=s9_acsd_al_bw_c_x_5_r_w/153-2693271-3474034?pf_rd_m=ATVPDKIKX0DER&pf_rd_s=merchandised-search-6&pf_rd_r=GQHK3K372GZ2DYPZCTT8&pf_rd_r=GQHK3K372GZ2DYPZCTT8&pf_rd_t=101&pf_rd_p=20edff09-04d3-4c05-8f94-1125395019e2&pf_rd_p=20edff09-04d3-4c05-8f94-1125395019e2&pf_rd_i=8192263011', '/gp/product-reviews/014312028X/ref=s9_acsd_al_bw_c_x_6_r_w/153-2693271-3474034?pf_rd_m=ATVPDKIKX0DER&pf_rd_s=merchandised-search-6&pf_rd_r=GQHK3K372GZ2DYPZCTT8&pf_rd_r=GQHK3K372GZ2DYPZCTT8&pf_rd_t=101&pf_rd_p=20edff09-04d3-4c05-8f94-1125395019e2&pf_rd_p=20edff09-04d3-4c05-8f94-1125395019e2&pf_rd_i=8192263011', '/gp/product-reviews/0679600213/ref=s9_acsd_al_bw_c_x_7_r_w/153-2693271-3474034?pf_rd_m=ATVPDKIKX0DER&pf_rd_s=merchandised-search-6&pf_rd_r=GQHK3K372GZ2DYPZCTT8&pf_rd_r=GQHK3K372GZ2DYPZCTT8&pf_rd_t=101&pf_rd_p=20edff09-04d3-4c05-8f94-1125395019e2&pf_rd_p=20edff09-04d3-4c05-8f94-1125395019e2&pf_rd_i=8192263011', '/gp/product-reviews/037571457X/ref=s9_acsd_al_bw_c_x_1_r_w/153-2693271-3474034?pf_rd_m=ATVPDKIKX0DER&pf_rd_s=merchandised-search-6&pf_rd_r=GQHK3K372GZ2DYPZCTT8&pf_rd_r=GQHK3K372GZ2DYPZCTT8&pf_rd_t=101&pf_rd_p=20edff09-04d3-4c05-8f94-1125395019e2&pf_rd_p=20edff09-04d3-4c05-8f94-1125395019e2&pf_rd_i=8192263011', '/gp/product-reviews/0679756450/ref=s9_acsd_al_bw_c_x_2_r_w/153-2693271-3474034?pf_rd_m=ATVPDKIKX0DER&pf_rd_s=merchandised-search-6&pf_rd_r=GQHK3K372GZ2DYPZCTT8&pf_rd_r=GQHK3K372GZ2DYPZCTT8&pf_rd_t=101&pf_rd_p=20edff09-04d3-4c05-8f94-1125395019e2&pf_rd_p=20edff09-04d3-4c05-8f94-1125395019e2&pf_rd_i=8192263011', '/gp/product-reviews/0199535566/ref=s9_acsd_al_bw_c_x_3_r_w/153-2693271-3474034?pf_rd_m=ATVPDKIKX0DER&pf_rd_s=merchandised-search-6&pf_rd_r=GQHK3K372GZ2DYPZCTT8&pf_rd_r=GQHK3K372GZ2DYPZCTT8&pf_rd_t=101&pf_rd_p=20edff09-04d3-4c05-8f94-1125395019e2&pf_rd_p=20edff09-04d3-4c05-8f94-1125395019e2&pf_rd_i=8192263011', '/gp/product-reviews/0618249060/ref=s9_acsd_al_bw_c_x_4_r_w/153-2693271-3474034?pf_rd_m=ATVPDKIKX0DER&pf_rd_s=merchandised-search-6&pf_rd_r=GQHK3K372GZ2DYPZCTT8&pf_rd_r=GQHK3K372GZ2DYPZCTT8&pf_rd_t=101&pf_rd_p=20edff09-04d3-4c05-8f94-1125395019e2&pf_rd_p=20edff09-04d3-4c05-8f94-1125395019e2&pf_rd_i=8192263011', '/gp/product-reviews/0385333846/ref=s9_acsd_al_bw_c_x_5_r_w/153-2693271-3474034?pf_rd_m=ATVPDKIKX0DER&pf_rd_s=merchandised-search-6&pf_rd_r=GQHK3K372GZ2DYPZCTT8&pf_rd_r=GQHK3K372GZ2DYPZCTT8&pf_rd_t=101&pf_rd_p=20edff09-04d3-4c05-8f94-1125395019e2&pf_rd_p=20edff09-04d3-4c05-8f94-1125395019e2&pf_rd_i=8192263011', '/gp/product-reviews/0743270754/ref=s9_acsd_al_bw_c_x_6_r_w/153-2693271-3474034?pf_rd_m=ATVPDKIKX0DER&pf_rd_s=merchandised-search-6&pf_rd_r=GQHK3K372GZ2DYPZCTT8&pf_rd_r=GQHK3K372GZ2DYPZCTT8&pf_rd_t=101&pf_rd_p=20edff09-04d3-4c05-8f94-1125395019e2&pf_rd_p=20edff09-04d3-4c05-8f94-1125395019e2&pf_rd_i=8192263011', '/gp/product-reviews/0451530888/ref=s9_acsd_al_bw_c_x_7_r_w/153-2693271-3474034?pf_rd_m=ATVPDKIKX0DER&pf_rd_s=merchandised-search-6&pf_rd_r=GQHK3K372GZ2DYPZCTT8&pf_rd_r=GQHK3K372GZ2DYPZCTT8&pf_rd_t=101&pf_rd_p=20edff09-04d3-4c05-8f94-1125395019e2&pf_rd_p=20edff09-04d3-4c05-8f94-1125395019e2&pf_rd_i=8192263011', '/gp/product-reviews/0812983580/ref=s9_acsd_al_bw_c_x_1_r_w/153-2693271-3474034?pf_rd_m=ATVPDKIKX0DER&pf_rd_s=merchandised-search-6&pf_rd_r=GQHK3K372GZ2DYPZCTT8&pf_rd_r=GQHK3K372GZ2DYPZCTT8&pf_rd_t=101&pf_rd_p=20edff09-04d3-4c05-8f94-1125395019e2&pf_rd_p=20edff09-04d3-4c05-8f94-1125395019e2&pf_rd_i=8192263011', '/gp/product-reviews/0345350685/ref=s9_acsd_al_bw_c_x_2_r_w/153-2693271-3474034?pf_rd_m=ATVPDKIKX0DER&pf_rd_s=merchandised-search-6&pf_rd_r=GQHK3K372GZ2DYPZCTT8&pf_rd_r=GQHK3K372GZ2DYPZCTT8&pf_rd_t=101&pf_rd_p=20edff09-04d3-4c05-8f94-1125395019e2&pf_rd_p=20edff09-04d3-4c05-8f94-1125395019e2&pf_rd_i=8192263011', '/gp/product-reviews/0375842209/ref=s9_acsd_al_bw_c_x_3_r_w/153-2693271-3474034?pf_rd_m=ATVPDKIKX0DER&pf_rd_s=merchandised-search-6&pf_rd_r=GQHK3K372GZ2DYPZCTT8&pf_rd_r=GQHK3K372GZ2DYPZCTT8&pf_rd_t=101&pf_rd_p=20edff09-04d3-4c05-8f94-1125395019e2&pf_rd_p=20edff09-04d3-4c05-8f94-1125395019e2&pf_rd_i=8192263011', '/gp/product-reviews/1594483299/ref=s9_acsd_al_bw_c_x_4_r_w/153-2693271-3474034?pf_rd_m=ATVPDKIKX0DER&pf_rd_s=merchandised-search-6&pf_rd_r=GQHK3K372GZ2DYPZCTT8&pf_rd_r=GQHK3K372GZ2DYPZCTT8&pf_rd_t=101&pf_rd_p=20edff09-04d3-4c05-8f94-1125395019e2&pf_rd_p=20edff09-04d3-4c05-8f94-1125395019e2&pf_rd_i=8192263011', '/gp/product-reviews/0316769177/ref=s9_acsd_al_bw_c_x_5_r_w/153-2693271-3474034?pf_rd_m=ATVPDKIKX0DER&pf_rd_s=merchandised-search-6&pf_rd_r=GQHK3K372GZ2DYPZCTT8&pf_rd_r=GQHK3K372GZ2DYPZCTT8&pf_rd_t=101&pf_rd_p=20edff09-04d3-4c05-8f94-1125395019e2&pf_rd_p=20edff09-04d3-4c05-8f94-1125395019e2&pf_rd_i=8192263011', '/gp/product-reviews/159448192X/ref=s9_acsd_al_bw_c_x_6_r_w/153-2693271-3474034?pf_rd_m=ATVPDKIKX0DER&pf_rd_s=merchandised-search-6&pf_rd_r=GQHK3K372GZ2DYPZCTT8&pf_rd_r=GQHK3K372GZ2DYPZCTT8&pf_rd_t=101&pf_rd_p=20edff09-04d3-4c05-8f94-1125395019e2&pf_rd_p=20edff09-04d3-4c05-8f94-1125395019e2&pf_rd_i=8192263011', '/gp/product-reviews/0312421273/ref=s9_acsd_al_bw_c_x_1_r_w/153-2693271-3474034?pf_rd_m=ATVPDKIKX0DER&pf_rd_s=merchandised-search-7&pf_rd_r=GQHK3K372GZ2DYPZCTT8&pf_rd_r=GQHK3K372GZ2DYPZCTT8&pf_rd_t=101&pf_rd_p=304f5707-70c1-4855-8358-2c7b11a639b9&pf_rd_p=304f5707-70c1-4855-8358-2c7b11a639b9&pf_rd_i=8192263011', '/gp/product-reviews/0375725601/ref=s9_acsd_al_bw_c_x_2_r_w/153-2693271-3474034?pf_rd_m=ATVPDKIKX0DER&pf_rd_s=merchandised-search-7&pf_rd_r=GQHK3K372GZ2DYPZCTT8&pf_rd_r=GQHK3K372GZ2DYPZCTT8&pf_rd_t=101&pf_rd_p=304f5707-70c1-4855-8358-2c7b11a639b9&pf_rd_p=304f5707-70c1-4855-8358-2c7b11a639b9&pf_rd_i=8192263011', '/gp/product-reviews/0307594009/ref=s9_acsd_al_bw_c_x_3_r_w/153-2693271-3474034?pf_rd_m=ATVPDKIKX0DER&pf_rd_s=merchandised-search-7&pf_rd_r=GQHK3K372GZ2DYPZCTT8&pf_rd_r=GQHK3K372GZ2DYPZCTT8&pf_rd_t=101&pf_rd_p=304f5707-70c1-4855-8358-2c7b11a639b9&pf_rd_p=304f5707-70c1-4855-8358-2c7b11a639b9&pf_rd_i=8192263011', '/gp/product-reviews/014242417X/ref=s9_acsd_al_bw_c_x_4_r_w/153-2693271-3474034?pf_rd_m=ATVPDKIKX0DER&pf_rd_s=merchandised-search-7&pf_rd_r=GQHK3K372GZ2DYPZCTT8&pf_rd_r=GQHK3K372GZ2DYPZCTT8&pf_rd_t=101&pf_rd_p=304f5707-70c1-4855-8358-2c7b11a639b9&pf_rd_p=304f5707-70c1-4855-8358-2c7b11a639b9&pf_rd_i=8192263011', '/gp/product-reviews/0385732554/ref=s9_acsd_al_bw_c_x_5_r_w/153-2693271-3474034?pf_rd_m=ATVPDKIKX0DER&pf_rd_s=merchandised-search-7&pf_rd_r=GQHK3K372GZ2DYPZCTT8&pf_rd_r=GQHK3K372GZ2DYPZCTT8&pf_rd_t=101&pf_rd_p=304f5707-70c1-4855-8358-2c7b11a639b9&pf_rd_p=304f5707-70c1-4855-8358-2c7b11a639b9&pf_rd_i=8192263011', '/gp/product-reviews/0440238137/ref=s9_acsd_al_bw_c_x_6_r_w/153-2693271-3474034?pf_rd_m=ATVPDKIKX0DER&pf_rd_s=merchandised-search-7&pf_rd_r=GQHK3K372GZ2DYPZCTT8&pf_rd_r=GQHK3K372GZ2DYPZCTT8&pf_rd_t=101&pf_rd_p=304f5707-70c1-4855-8358-2c7b11a639b9&pf_rd_p=304f5707-70c1-4855-8358-2c7b11a639b9&pf_rd_i=8192263011', '/gp/product-reviews/0743273567/ref=s9_acsd_al_bw_c_x_7_r_w/153-2693271-3474034?pf_rd_m=ATVPDKIKX0DER&pf_rd_s=merchandised-search-7&pf_rd_r=GQHK3K372GZ2DYPZCTT8&pf_rd_r=GQHK3K372GZ2DYPZCTT8&pf_rd_t=101&pf_rd_p=304f5707-70c1-4855-8358-2c7b11a639b9&pf_rd_p=304f5707-70c1-4855-8358-2c7b11a639b9&pf_rd_i=8192263011', '/gp/product-reviews/038549081X/ref=s9_acsd_al_bw_c_x_1_r_w/153-2693271-3474034?pf_rd_m=ATVPDKIKX0DER&pf_rd_s=merchandised-search-7&pf_rd_r=GQHK3K372GZ2DYPZCTT8&pf_rd_r=GQHK3K372GZ2DYPZCTT8&pf_rd_t=101&pf_rd_p=304f5707-70c1-4855-8358-2c7b11a639b9&pf_rd_p=304f5707-70c1-4855-8358-2c7b11a639b9&pf_rd_i=8192263011', '/gp/product-reviews/0140361227/ref=s9_acsd_al_bw_c_x_2_r_w/153-2693271-3474034?pf_rd_m=ATVPDKIKX0DER&pf_rd_s=merchandised-search-7&pf_rd_r=GQHK3K372GZ2DYPZCTT8&pf_rd_r=GQHK3K372GZ2DYPZCTT8&pf_rd_t=101&pf_rd_p=304f5707-70c1-4855-8358-2c7b11a639b9&pf_rd_p=304f5707-70c1-4855-8358-2c7b11a639b9&pf_rd_i=8192263011', '/gp/product-reviews/0439023521/ref=s9_acsd_al_bw_c_x_3_r_w/153-2693271-3474034?pf_rd_m=ATVPDKIKX0DER&pf_rd_s=merchandised-search-7&pf_rd_r=GQHK3K372GZ2DYPZCTT8&pf_rd_r=GQHK3K372GZ2DYPZCTT8&pf_rd_t=101&pf_rd_p=304f5707-70c1-4855-8358-2c7b11a639b9&pf_rd_p=304f5707-70c1-4855-8358-2c7b11a639b9&pf_rd_i=8192263011', '/gp/product-reviews/1400052181/ref=s9_acsd_al_bw_c_x_4_r_w/153-2693271-3474034?pf_rd_m=ATVPDKIKX0DER&pf_rd_s=merchandised-search-7&pf_rd_r=GQHK3K372GZ2DYPZCTT8&pf_rd_r=GQHK3K372GZ2DYPZCTT8&pf_rd_t=101&pf_rd_p=304f5707-70c1-4855-8358-2c7b11a639b9&pf_rd_p=304f5707-70c1-4855-8358-2c7b11a639b9&pf_rd_i=8192263011', '/gp/product-reviews/0143035746/ref=s9_acsd_al_bw_c_x_5_r_w/153-2693271-3474034?pf_rd_m=ATVPDKIKX0DER&pf_rd_s=merchandised-search-7&pf_rd_r=GQHK3K372GZ2DYPZCTT8&pf_rd_r=GQHK3K372GZ2DYPZCTT8&pf_rd_t=101&pf_rd_p=304f5707-70c1-4855-8358-2c7b11a639b9&pf_rd_p=304f5707-70c1-4855-8358-2c7b11a639b9&pf_rd_i=8192263011', '/gp/product-reviews/0786838655/ref=s9_acsd_al_bw_c_x_6_r_w/153-2693271-3474034?pf_rd_m=ATVPDKIKX0DER&pf_rd_s=merchandised-search-7&pf_rd_r=GQHK3K372GZ2DYPZCTT8&pf_rd_r=GQHK3K372GZ2DYPZCTT8&pf_rd_t=101&pf_rd_p=304f5707-70c1-4855-8358-2c7b11a639b9&pf_rd_p=304f5707-70c1-4855-8358-2c7b11a639b9&pf_rd_i=8192263011', '/gp/product-reviews/0547978847/ref=s9_acsd_al_bw_c_x_7_r_w/153-2693271-3474034?pf_rd_m=ATVPDKIKX0DER&pf_rd_s=merchandised-search-7&pf_rd_r=GQHK3K372GZ2DYPZCTT8&pf_rd_r=GQHK3K372GZ2DYPZCTT8&pf_rd_t=101&pf_rd_p=304f5707-70c1-4855-8358-2c7b11a639b9&pf_rd_p=304f5707-70c1-4855-8358-2c7b11a639b9&pf_rd_i=8192263011', '/gp/product-reviews/0394757688/ref=s9_acsd_al_bw_c_x_1_r_w/153-2693271-3474034?pf_rd_m=ATVPDKIKX0DER&pf_rd_s=merchandised-search-7&pf_rd_r=GQHK3K372GZ2DYPZCTT8&pf_rd_r=GQHK3K372GZ2DYPZCTT8&pf_rd_t=101&pf_rd_p=304f5707-70c1-4855-8358-2c7b11a639b9&pf_rd_p=304f5707-70c1-4855-8358-2c7b11a639b9&pf_rd_i=8192263011', '/gp/product-reviews/1400030846/ref=s9_acsd_al_bw_c_x_2_r_w/153-2693271-3474034?pf_rd_m=ATVPDKIKX0DER&pf_rd_s=merchandised-search-7&pf_rd_r=GQHK3K372GZ2DYPZCTT8&pf_rd_r=GQHK3K372GZ2DYPZCTT8&pf_rd_t=101&pf_rd_p=304f5707-70c1-4855-8358-2c7b11a639b9&pf_rd_p=304f5707-70c1-4855-8358-2c7b11a639b9&pf_rd_i=8192263011', '/gp/product-reviews/0544003411/ref=s9_acsd_al_bw_c_x_3_r_w/153-2693271-3474034?pf_rd_m=ATVPDKIKX0DER&pf_rd_s=merchandised-search-7&pf_rd_r=GQHK3K372GZ2DYPZCTT8&pf_rd_r=GQHK3K372GZ2DYPZCTT8&pf_rd_t=101&pf_rd_p=304f5707-70c1-4855-8358-2c7b11a639b9&pf_rd_p=304f5707-70c1-4855-8358-2c7b11a639b9&pf_rd_i=8192263011', '/gp/product-reviews/0684853949/ref=s9_acsd_al_bw_c_x_4_r_w/153-2693271-3474034?pf_rd_m=ATVPDKIKX0DER&pf_rd_s=merchandised-search-7&pf_rd_r=GQHK3K372GZ2DYPZCTT8&pf_rd_r=GQHK3K372GZ2DYPZCTT8&pf_rd_t=101&pf_rd_p=304f5707-70c1-4855-8358-2c7b11a639b9&pf_rd_p=304f5707-70c1-4855-8358-2c7b11a639b9&pf_rd_i=8192263011', '/gp/product-reviews/0143038583/ref=s9_acsd_al_bw_c_x_5_r_w/153-2693271-3474034?pf_rd_m=ATVPDKIKX0DER&pf_rd_s=merchandised-search-7&pf_rd_r=GQHK3K372GZ2DYPZCTT8&pf_rd_r=GQHK3K372GZ2DYPZCTT8&pf_rd_t=101&pf_rd_p=304f5707-70c1-4855-8358-2c7b11a639b9&pf_rd_p=304f5707-70c1-4855-8358-2c7b11a639b9&pf_rd_i=8192263011', '/gp/product-reviews/0375869034/ref=s9_acsd_al_bw_c_x_6_r_w/153-2693271-3474034?pf_rd_m=ATVPDKIKX0DER&pf_rd_s=merchandised-search-7&pf_rd_r=GQHK3K372GZ2DYPZCTT8&pf_rd_r=GQHK3K372GZ2DYPZCTT8&pf_rd_t=101&pf_rd_p=304f5707-70c1-4855-8358-2c7b11a639b9&pf_rd_p=304f5707-70c1-4855-8358-2c7b11a639b9&pf_rd_i=8192263011', '/gp/product-reviews/0061577073/ref=s9_acsd_al_bw_c_x_1_r_w/153-2693271-3474034?pf_rd_m=ATVPDKIKX0DER&pf_rd_s=merchandised-search-8&pf_rd_r=GQHK3K372GZ2DYPZCTT8&pf_rd_r=GQHK3K372GZ2DYPZCTT8&pf_rd_t=101&pf_rd_p=cb862b66-0681-48c9-af0d-9c438ad0ed0b&pf_rd_p=cb862b66-0681-48c9-af0d-9c438ad0ed0b&pf_rd_i=8192263011', '/gp/product-reviews/0394720245/ref=s9_acsd_al_bw_c_x_2_r_w/153-2693271-3474034?pf_rd_m=ATVPDKIKX0DER&pf_rd_s=merchandised-search-8&pf_rd_r=GQHK3K372GZ2DYPZCTT8&pf_rd_r=GQHK3K372GZ2DYPZCTT8&pf_rd_t=101&pf_rd_p=cb862b66-0681-48c9-af0d-9c438ad0ed0b&pf_rd_p=cb862b66-0681-48c9-af0d-9c438ad0ed0b&pf_rd_i=8192263011', '/gp/product-reviews/0312427565/ref=s9_acsd_al_bw_c_x_3_r_w/153-2693271-3474034?pf_rd_m=ATVPDKIKX0DER&pf_rd_s=merchandised-search-8&pf_rd_r=GQHK3K372GZ2DYPZCTT8&pf_rd_r=GQHK3K372GZ2DYPZCTT8&pf_rd_t=101&pf_rd_p=cb862b66-0681-48c9-af0d-9c438ad0ed0b&pf_rd_p=cb862b66-0681-48c9-af0d-9c438ad0ed0b&pf_rd_i=8192263011', '/gp/product-reviews/0307387895/ref=s9_acsd_al_bw_c_x_4_r_w/153-2693271-3474034?pf_rd_m=ATVPDKIKX0DER&pf_rd_s=merchandised-search-8&pf_rd_r=GQHK3K372GZ2DYPZCTT8&pf_rd_r=GQHK3K372GZ2DYPZCTT8&pf_rd_t=101&pf_rd_p=cb862b66-0681-48c9-af0d-9c438ad0ed0b&pf_rd_p=cb862b66-0681-48c9-af0d-9c438ad0ed0b&pf_rd_i=8192263011', '/gp/product-reviews/1400031702/ref=s9_acsd_al_bw_c_x_5_r_w/153-2693271-3474034?pf_rd_m=ATVPDKIKX0DER&pf_rd_s=merchandised-search-8&pf_rd_r=GQHK3K372GZ2DYPZCTT8&pf_rd_r=GQHK3K372GZ2DYPZCTT8&pf_rd_t=101&pf_rd_p=cb862b66-0681-48c9-af0d-9c438ad0ed0b&pf_rd_p=cb862b66-0681-48c9-af0d-9c438ad0ed0b&pf_rd_i=8192263011', '/gp/product-reviews/0307743659/ref=s9_acsd_al_bw_c_x_6_r_w/153-2693271-3474034?pf_rd_m=ATVPDKIKX0DER&pf_rd_s=merchandised-search-8&pf_rd_r=GQHK3K372GZ2DYPZCTT8&pf_rd_r=GQHK3K372GZ2DYPZCTT8&pf_rd_t=101&pf_rd_p=cb862b66-0681-48c9-af0d-9c438ad0ed0b&pf_rd_p=cb862b66-0681-48c9-af0d-9c438ad0ed0b&pf_rd_i=8192263011', '/gp/product-reviews/0679720200/ref=s9_acsd_al_bw_c_x_7_r_w/153-2693271-3474034?pf_rd_m=ATVPDKIKX0DER&pf_rd_s=merchandised-search-8&pf_rd_r=GQHK3K372GZ2DYPZCTT8&pf_rd_r=GQHK3K372GZ2DYPZCTT8&pf_rd_t=101&pf_rd_p=cb862b66-0681-48c9-af0d-9c438ad0ed0b&pf_rd_p=cb862b66-0681-48c9-af0d-9c438ad0ed0b&pf_rd_i=8192263011', '/gp/product-reviews/0743297334/ref=s9_acsd_al_bw_c_x_1_r_w/153-2693271-3474034?pf_rd_m=ATVPDKIKX0DER&pf_rd_s=merchandised-search-8&pf_rd_r=GQHK3K372GZ2DYPZCTT8&pf_rd_r=GQHK3K372GZ2DYPZCTT8&pf_rd_t=101&pf_rd_p=cb862b66-0681-48c9-af0d-9c438ad0ed0b&pf_rd_p=cb862b66-0681-48c9-af0d-9c438ad0ed0b&pf_rd_i=8192263011', '/gp/product-reviews/0618706410/ref=s9_acsd_al_bw_c_x_2_r_w/153-2693271-3474034?pf_rd_m=ATVPDKIKX0DER&pf_rd_s=merchandised-search-8&pf_rd_r=GQHK3K372GZ2DYPZCTT8&pf_rd_r=GQHK3K372GZ2DYPZCTT8&pf_rd_t=101&pf_rd_p=cb862b66-0681-48c9-af0d-9c438ad0ed0b&pf_rd_p=cb862b66-0681-48c9-af0d-9c438ad0ed0b&pf_rd_i=8192263011', '/gp/product-reviews/0399226907/ref=s9_acsd_al_bw_c_x_3_r_w/153-2693271-3474034?pf_rd_m=ATVPDKIKX0DER&pf_rd_s=merchandised-search-8&pf_rd_r=GQHK3K372GZ2DYPZCTT8&pf_rd_r=GQHK3K372GZ2DYPZCTT8&pf_rd_t=101&pf_rd_p=cb862b66-0681-48c9-af0d-9c438ad0ed0b&pf_rd_p=cb862b66-0681-48c9-af0d-9c438ad0ed0b&pf_rd_i=8192263011', '/gp/product-reviews/0763622427/ref=s9_acsd_al_bw_c_x_4_r_w/153-2693271-3474034?pf_rd_m=ATVPDKIKX0DER&pf_rd_s=merchandised-search-8&pf_rd_r=GQHK3K372GZ2DYPZCTT8&pf_rd_r=GQHK3K372GZ2DYPZCTT8&pf_rd_t=101&pf_rd_p=cb862b66-0681-48c9-af0d-9c438ad0ed0b&pf_rd_p=cb862b66-0681-48c9-af0d-9c438ad0ed0b&pf_rd_i=8192263011', '/gp/product-reviews/0679775439/ref=s9_acsd_al_bw_c_x_5_r_w/153-2693271-3474034?pf_rd_m=ATVPDKIKX0DER&pf_rd_s=merchandised-search-8&pf_rd_r=GQHK3K372GZ2DYPZCTT8&pf_rd_r=GQHK3K372GZ2DYPZCTT8&pf_rd_t=101&pf_rd_p=cb862b66-0681-48c9-af0d-9c438ad0ed0b&pf_rd_p=cb862b66-0681-48c9-af0d-9c438ad0ed0b&pf_rd_i=8192263011', '/gp/product-reviews/0345418018/ref=s9_acsd_al_bw_c_x_6_r_w/153-2693271-3474034?pf_rd_m=ATVPDKIKX0DER&pf_rd_s=merchandised-search-8&pf_rd_r=GQHK3K372GZ2DYPZCTT8&pf_rd_r=GQHK3K372GZ2DYPZCTT8&pf_rd_t=101&pf_rd_p=cb862b66-0681-48c9-af0d-9c438ad0ed0b&pf_rd_p=cb862b66-0681-48c9-af0d-9c438ad0ed0b&pf_rd_i=8192263011', '/gp/product-reviews/1400078431/ref=s9_acsd_al_bw_c_x_7_r_w/153-2693271-3474034?pf_rd_m=ATVPDKIKX0DER&pf_rd_s=merchandised-search-8&pf_rd_r=GQHK3K372GZ2DYPZCTT8&pf_rd_r=GQHK3K372GZ2DYPZCTT8&pf_rd_t=101&pf_rd_p=cb862b66-0681-48c9-af0d-9c438ad0ed0b&pf_rd_p=cb862b66-0681-48c9-af0d-9c438ad0ed0b&pf_rd_i=8192263011', '/gp/product-reviews/0385474547/ref=s9_acsd_al_bw_c_x_1_r_w/153-2693271-3474034?pf_rd_m=ATVPDKIKX0DER&pf_rd_s=merchandised-search-8&pf_rd_r=GQHK3K372GZ2DYPZCTT8&pf_rd_r=GQHK3K372GZ2DYPZCTT8&pf_rd_t=101&pf_rd_p=cb862b66-0681-48c9-af0d-9c438ad0ed0b&pf_rd_p=cb862b66-0681-48c9-af0d-9c438ad0ed0b&pf_rd_i=8192263011', '/gp/product-reviews/0446310786/ref=s9_acsd_al_bw_c_x_2_r_w/153-2693271-3474034?pf_rd_m=ATVPDKIKX0DER&pf_rd_s=merchandised-search-8&pf_rd_r=GQHK3K372GZ2DYPZCTT8&pf_rd_r=GQHK3K372GZ2DYPZCTT8&pf_rd_t=101&pf_rd_p=cb862b66-0681-48c9-af0d-9c438ad0ed0b&pf_rd_p=cb862b66-0681-48c9-af0d-9c438ad0ed0b&pf_rd_i=8192263011', '/gp/product-reviews/0812974492/ref=s9_acsd_al_bw_c_x_3_r_w/153-2693271-3474034?pf_rd_m=ATVPDKIKX0DER&pf_rd_s=merchandised-search-8&pf_rd_r=GQHK3K372GZ2DYPZCTT8&pf_rd_r=GQHK3K372GZ2DYPZCTT8&pf_rd_t=101&pf_rd_p=cb862b66-0681-48c9-af0d-9c438ad0ed0b&pf_rd_p=cb862b66-0681-48c9-af0d-9c438ad0ed0b&pf_rd_i=8192263011', '/gp/product-reviews/0802135196/ref=s9_acsd_al_bw_c_x_4_r_w/153-2693271-3474034?pf_rd_m=ATVPDKIKX0DER&pf_rd_s=merchandised-search-8&pf_rd_r=GQHK3K372GZ2DYPZCTT8&pf_rd_r=GQHK3K372GZ2DYPZCTT8&pf_rd_t=101&pf_rd_p=cb862b66-0681-48c9-af0d-9c438ad0ed0b&pf_rd_p=cb862b66-0681-48c9-af0d-9c438ad0ed0b&pf_rd_i=8192263011', '/gp/product-reviews/0060291699/ref=s9_acsd_al_bw_c_x_5_r_w/153-2693271-3474034?pf_rd_m=ATVPDKIKX0DER&pf_rd_s=merchandised-search-8&pf_rd_r=GQHK3K372GZ2DYPZCTT8&pf_rd_r=GQHK3K372GZ2DYPZCTT8&pf_rd_t=101&pf_rd_p=cb862b66-0681-48c9-af0d-9c438ad0ed0b&pf_rd_p=cb862b66-0681-48c9-af0d-9c438ad0ed0b&pf_rd_i=8192263011', '/gp/product-reviews/0060254920/ref=s9_acsd_al_bw_c_x_6_r_w/153-2693271-3474034?pf_rd_m=ATVPDKIKX0DER&pf_rd_s=merchandised-search-8&pf_rd_r=GQHK3K372GZ2DYPZCTT8&pf_rd_r=GQHK3K372GZ2DYPZCTT8&pf_rd_t=101&pf_rd_p=cb862b66-0681-48c9-af0d-9c438ad0ed0b&pf_rd_p=cb862b66-0681-48c9-af0d-9c438ad0ed0b&pf_rd_i=8192263011']\n",
      "100\n"
     ]
    }
   ],
   "source": [
    "# get the review links and product links\n",
    "links_path = parser.xpath('//a[@class=\"a-size-small\"]/@href')\n",
    "\n",
    "print(links_path)\n",
    "print(len(links_path))"
   ]
  },
  {
   "cell_type": "code",
   "execution_count": 15,
   "metadata": {
    "collapsed": false
   },
   "outputs": [
    {
     "name": "stdout",
     "output_type": "stream",
     "text": [
      "['1984 (Signet Classics)', 'A Brief History of Time', 'A Heartbreaking Work of Staggering...', 'A Long Way Gone: Memoirs of a Boy...', 'The Bad Beginning: Or, Orphans!', 'A Wrinkle in Time', 'Selected Stories, 1968-1994', \"Alice's Adventures in Wonderland...\", \"All the President's Men\", \"Angela's Ashes: A Memoir\", \"Are You There God? It's Me, Margaret.\", 'Bel Canto (P.S.)', 'Beloved', 'Born to Run: A Hidden Tribe...', \"Breath, Eyes, Memory (Oprah's Book Club)\", 'Catch-22: 50th Anniversary Edition', 'Charlie and the Chocolate Factory', \"Charlotte's Web\", 'Cutting for Stone', 'Daring Greatly: How the Courage to Be...', 'Diary of a Wimpy Kid, Book 1', 'Dune (Dune Chronicles, Book 1)', 'Fahrenheit 451', 'Fear and Loathing in Las Vegas: A...', 'Gone Girl', 'Goodnight Moon', 'Great Expectations', 'Guns, Germs, and Steel: The Fates of...', \"Harry Potter and the Sorcerer's Stone\", 'In Cold Blood', 'Interpreter of Maladies', 'Invisible Man', 'Jimmy Corrigan: The Smartest Kid on...', 'Kitchen Confidential Updated Edition...', 'Life After Life: A Novel', 'Little House on the Prairie (Full Color)', \"Lolita (Everyman's Library (Cloth))\", 'Love in the Time of Cholera', 'Love Medicine: Newly Revised Edition', \"Man's Search for Meaning\", 'Me Talk Pretty One Day', \"Middlesex: A Novel (Oprah's Book Club)\", \"Midnight's Children: A Novel\", 'Moneyball: The Art of Winning an...', 'Of Human Bondage (Bantam Classics)', 'On the Road', 'Out of Africa', 'Persepolis: The Story of a Childhood', \"Portnoy's Complaint\", 'Pride and Prejudice', 'Silent Spring', 'Slaughterhouse-Five: A Novel', 'Team of Rivals: The Political Genius...', 'The Age of Innocence (Signet Classics)', 'The Amazing Adventures of Kavalier...', 'The Autobiography of Malcolm X: As...', 'The Book Thief', 'The Brief Wondrous Life of Oscar Wao', 'The Catcher in the Rye', \"The Color of Water: A Black Man's...\", 'The Corrections: A Novel', 'The Devil in the White City: Murder...', 'The Diary of a Young Girl', 'The Fault in Our Stars', 'The Giver', 'The Golden Compass: His Dark Materials', 'The Great Gatsby', \"The Handmaid's Tale\", 'The House at Pooh Corner', 'The Hunger Games (Book 1)', 'The Immortal Life of Henrietta Lacks', \"The Liars' Club: A Memoir\", 'The Lightning Thief', 'The Little Prince', 'The Long Goodbye', 'The Looming Tower: Al-Qaeda and the...', 'The Lord of the Rings', 'The Man Who Mistook His Wife For A...', \"The Omnivore's Dilemma: A Natural...\", 'The Phantom Tollbooth 50th...', 'The Poisonwood Bible: A Novel', 'The Power Broker: Robert Moses and...', 'The Right Stuff', 'The Road', 'The Secret History', 'The Shining', 'The Stranger', 'The Sun Also Rises', 'The Things They Carried', 'The Very Hungry Caterpillar', 'The Wind in the Willows', 'The Wind-Up Bird Chronicle: A Novel', 'The World According to Garp', 'The Year of Magical Thinking', 'Things Fall Apart', 'To Kill a Mockingbird', 'Unbroken: A World War II Story of...', 'Valley of the Dolls', 'Where the Sidewalk Ends: The Poems...', 'Where the Wild Things Are']\n",
      "100\n"
     ]
    }
   ],
   "source": [
    "# get all the title of books\n",
    "book_titles = parser.xpath('//a[@class=\"a-link-normal\"]//span[@class=\"a-size-small\"]//text()')\n",
    "print(book_titles)\n",
    "print(len(book_titles))"
   ]
  },
  {
   "cell_type": "code",
   "execution_count": 16,
   "metadata": {
    "collapsed": false
   },
   "outputs": [
    {
     "name": "stdout",
     "output_type": "stream",
     "text": [
      "100\n",
      "['5,132', '1,699', '1,269', '1,637', '1,824', '2,364', '98', '4,268', '282', '2,827', '1,068', '1,518', '1,113', '3,533', '346', '1,691', '1,252', '1,491', '3,819', '2,654', '10,551', '2,632', '3,304', '1,091', '43,748', '2,727', '1,438', '2,336', '14,027', '1,690', '1,045', '729', '194', '2,406', '3,617', '323', '1,276', '945', '150', '3,470', '1,458', '1,851', '433', '1,281', '496', '1,445', '348', '597', '249', '8,661', '521', '2,811', '2,989', '574', '1,117', '1,044', '17,009', '1,386', '4,752', '1,367', '1,513', '5,119', '2,370', '37,809', '9,492', '1,878', '6,340', '3,129', '534', '56,053', '5,101', '458', '4,044', '2,441', '388', '795', '19,779', '657', '1,434', '1,587', '2,744', '307', '310', '4,315', '2,447', '3,458', '1,198', '1,358', '2,363', '2,947', '895', '866', '413', '1,118', '1,547', '9,789', '27,392', '315', '1,477', '1,822']\n"
     ]
    }
   ],
   "source": [
    "# get the total number of reviews:\n",
    "\n",
    "review_count = parser.xpath('//span[@class=\"acs_product-rating__review-count\"]//text()')\n",
    "print(len(review_count))\n",
    "print(review_count)"
   ]
  },
  {
   "cell_type": "code",
   "execution_count": 9,
   "metadata": {
    "collapsed": true
   },
   "outputs": [],
   "source": [
    "import pandas as pd\n",
    "import numpy as np"
   ]
  },
  {
   "cell_type": "code",
   "execution_count": 18,
   "metadata": {
    "collapsed": false
   },
   "outputs": [
    {
     "data": {
      "text/html": [
       "<div>\n",
       "<table border=\"1\" class=\"dataframe\">\n",
       "  <thead>\n",
       "    <tr style=\"text-align: right;\">\n",
       "      <th></th>\n",
       "      <th>review_count</th>\n",
       "      <th>title</th>\n",
       "      <th>url</th>\n",
       "    </tr>\n",
       "  </thead>\n",
       "  <tbody>\n",
       "    <tr>\n",
       "      <th>0</th>\n",
       "      <td>5,132</td>\n",
       "      <td>1984 (Signet Classics)</td>\n",
       "      <td>/gp/product-reviews/0451524934/ref=s9_acsd_al_...</td>\n",
       "    </tr>\n",
       "    <tr>\n",
       "      <th>1</th>\n",
       "      <td>1,699</td>\n",
       "      <td>A Brief History of Time</td>\n",
       "      <td>/gp/product-reviews/0553380168/ref=s9_acsd_al_...</td>\n",
       "    </tr>\n",
       "    <tr>\n",
       "      <th>2</th>\n",
       "      <td>1,269</td>\n",
       "      <td>A Heartbreaking Work of Staggering...</td>\n",
       "      <td>/gp/product-reviews/0375725784/ref=s9_acsd_al_...</td>\n",
       "    </tr>\n",
       "    <tr>\n",
       "      <th>3</th>\n",
       "      <td>1,637</td>\n",
       "      <td>A Long Way Gone: Memoirs of a Boy...</td>\n",
       "      <td>/gp/product-reviews/0374531269/ref=s9_acsd_al_...</td>\n",
       "    </tr>\n",
       "    <tr>\n",
       "      <th>4</th>\n",
       "      <td>1,824</td>\n",
       "      <td>The Bad Beginning: Or, Orphans!</td>\n",
       "      <td>/gp/product-reviews/0061146307/ref=s9_acsd_al_...</td>\n",
       "    </tr>\n",
       "  </tbody>\n",
       "</table>\n",
       "</div>"
      ],
      "text/plain": [
       "  review_count                                  title  \\\n",
       "0        5,132                 1984 (Signet Classics)   \n",
       "1        1,699                A Brief History of Time   \n",
       "2        1,269  A Heartbreaking Work of Staggering...   \n",
       "3        1,637   A Long Way Gone: Memoirs of a Boy...   \n",
       "4        1,824        The Bad Beginning: Or, Orphans!   \n",
       "\n",
       "                                                 url  \n",
       "0  /gp/product-reviews/0451524934/ref=s9_acsd_al_...  \n",
       "1  /gp/product-reviews/0553380168/ref=s9_acsd_al_...  \n",
       "2  /gp/product-reviews/0375725784/ref=s9_acsd_al_...  \n",
       "3  /gp/product-reviews/0374531269/ref=s9_acsd_al_...  \n",
       "4  /gp/product-reviews/0061146307/ref=s9_acsd_al_...  "
      ]
     },
     "execution_count": 18,
     "metadata": {},
     "output_type": "execute_result"
    }
   ],
   "source": [
    "lifetime = pd.DataFrame({'title': book_titles,\n",
    "                         'review_count':review_count,\n",
    "                         'url': links_path})\n",
    "lifetime.head()"
   ]
  },
  {
   "cell_type": "code",
   "execution_count": 21,
   "metadata": {
    "collapsed": true
   },
   "outputs": [],
   "source": [
    "lifetime['ASIN'] = lifetime.url.str[20:30]"
   ]
  },
  {
   "cell_type": "code",
   "execution_count": 22,
   "metadata": {
    "collapsed": false
   },
   "outputs": [
    {
     "data": {
      "text/html": [
       "<div>\n",
       "<table border=\"1\" class=\"dataframe\">\n",
       "  <thead>\n",
       "    <tr style=\"text-align: right;\">\n",
       "      <th></th>\n",
       "      <th>review_count</th>\n",
       "      <th>title</th>\n",
       "      <th>url</th>\n",
       "      <th>ASIN</th>\n",
       "    </tr>\n",
       "  </thead>\n",
       "  <tbody>\n",
       "    <tr>\n",
       "      <th>0</th>\n",
       "      <td>5,132</td>\n",
       "      <td>1984 (Signet Classics)</td>\n",
       "      <td>/gp/product-reviews/0451524934/ref=s9_acsd_al_...</td>\n",
       "      <td>0451524934</td>\n",
       "    </tr>\n",
       "    <tr>\n",
       "      <th>1</th>\n",
       "      <td>1,699</td>\n",
       "      <td>A Brief History of Time</td>\n",
       "      <td>/gp/product-reviews/0553380168/ref=s9_acsd_al_...</td>\n",
       "      <td>0553380168</td>\n",
       "    </tr>\n",
       "    <tr>\n",
       "      <th>2</th>\n",
       "      <td>1,269</td>\n",
       "      <td>A Heartbreaking Work of Staggering...</td>\n",
       "      <td>/gp/product-reviews/0375725784/ref=s9_acsd_al_...</td>\n",
       "      <td>0375725784</td>\n",
       "    </tr>\n",
       "    <tr>\n",
       "      <th>3</th>\n",
       "      <td>1,637</td>\n",
       "      <td>A Long Way Gone: Memoirs of a Boy...</td>\n",
       "      <td>/gp/product-reviews/0374531269/ref=s9_acsd_al_...</td>\n",
       "      <td>0374531269</td>\n",
       "    </tr>\n",
       "    <tr>\n",
       "      <th>4</th>\n",
       "      <td>1,824</td>\n",
       "      <td>The Bad Beginning: Or, Orphans!</td>\n",
       "      <td>/gp/product-reviews/0061146307/ref=s9_acsd_al_...</td>\n",
       "      <td>0061146307</td>\n",
       "    </tr>\n",
       "  </tbody>\n",
       "</table>\n",
       "</div>"
      ],
      "text/plain": [
       "  review_count                                  title  \\\n",
       "0        5,132                 1984 (Signet Classics)   \n",
       "1        1,699                A Brief History of Time   \n",
       "2        1,269  A Heartbreaking Work of Staggering...   \n",
       "3        1,637   A Long Way Gone: Memoirs of a Boy...   \n",
       "4        1,824        The Bad Beginning: Or, Orphans!   \n",
       "\n",
       "                                                 url        ASIN  \n",
       "0  /gp/product-reviews/0451524934/ref=s9_acsd_al_...  0451524934  \n",
       "1  /gp/product-reviews/0553380168/ref=s9_acsd_al_...  0553380168  \n",
       "2  /gp/product-reviews/0375725784/ref=s9_acsd_al_...  0375725784  \n",
       "3  /gp/product-reviews/0374531269/ref=s9_acsd_al_...  0374531269  \n",
       "4  /gp/product-reviews/0061146307/ref=s9_acsd_al_...  0061146307  "
      ]
     },
     "execution_count": 22,
     "metadata": {},
     "output_type": "execute_result"
    }
   ],
   "source": [
    "lifetime.head()"
   ]
  },
  {
   "cell_type": "code",
   "execution_count": 23,
   "metadata": {
    "collapsed": true
   },
   "outputs": [],
   "source": [
    "lifetime.to_csv('lifetime_meta.csv', sep='\\t')"
   ]
  },
  {
   "cell_type": "code",
   "execution_count": 70,
   "metadata": {
    "collapsed": true
   },
   "outputs": [],
   "source": [
    "def get_list_meta(url, list_name):\n",
    "    #url = \"https://www.amazon.com/b?node=8192263011\"\n",
    "\n",
    "    headers = {'User-Agent': 'Mozilla/5.0 (X11; Linux x86_64) AppleWebKit/537.36 (KHTML, like Gecko) Chrome/42.0.2311.90 Safari/537.36'}\n",
    "    page = requests.get(url,headers = headers) # this is the review page, not the product page\n",
    "\n",
    "    parser = html.fromstring(page.text) \n",
    "\n",
    "    # get the review links and product links\n",
    "    links_path = parser.xpath('//a[@class=\"a-size-small\"]/@href')\n",
    "\n",
    "    # get all the title of books\n",
    "    book_titles = parser.xpath('//a[@class=\"a-link-normal\"]//span[@class=\"a-size-small\"]//text()')\n",
    "\n",
    "    # get the total number of reviews:\n",
    "    review_count = parser.xpath('//span[@class=\"acs_product-rating__review-count\"]//text()')\n",
    "\n",
    "    lifetime = pd.DataFrame({'title': book_titles,\n",
    "                             'review_count':review_count,\n",
    "                             'list_name': [list_name] * len(book_titles),\n",
    "                             'url': links_path})\n",
    "    lifetime['ASIN'] = lifetime.url.str[20:30]\n",
    "    lifetime.to_csv(list_name + '_meta.csv', sep='\\t')\n",
    "    return lifetime\n"
   ]
  },
  {
   "cell_type": "code",
   "execution_count": 73,
   "metadata": {
    "collapsed": true
   },
   "outputs": [],
   "source": [
    "lifetime = get_list_meta(\"https://www.amazon.com/b?node=8192263011\", \"lifetime\")"
   ]
  },
  {
   "cell_type": "code",
   "execution_count": 76,
   "metadata": {
    "collapsed": false
   },
   "outputs": [],
   "source": [
    "children = get_list_meta(\"https://www.amazon.com/b/ref=s9_acss_bw_cg_100BksCG_1b1_w?node=9660210011&pf_rd_m=ATVPDKIKX0DER&pf_rd_s=merchandised-search-10&pf_rd_r=M8G7NPA5ZG6HA5ZNCQFX&pf_rd_t=101&pf_rd_p=9415d7fe-2a0d-4bc7-a7e5-9bb38296b29f&pf_rd_i=8192263011\",\n",
    "                        \"children\")"
   ]
  },
  {
   "cell_type": "code",
   "execution_count": 77,
   "metadata": {
    "collapsed": true
   },
   "outputs": [],
   "source": [
    "thriller = get_list_meta(\"https://www.amazon.com/b/ref=s9_acss_bw_cg_100BksCG_2d1_w?node=8994558011&pf_rd_m=ATVPDKIKX0DER&pf_rd_s=merchandised-search-10&pf_rd_r=H2MMC1E49QK93FBKN9AH&pf_rd_t=101&pf_rd_p=b629ce0d-e850-4ede-b0d5-c6f384d952fb&pf_rd_i=9660210011\",\n",
    "                         \"thriller\")"
   ]
  },
  {
   "cell_type": "code",
   "execution_count": 32,
   "metadata": {
    "collapsed": true
   },
   "outputs": [],
   "source": [
    "url = \"https://www.amazon.com/Books/b/ref=sv_b_3?ie=UTF8&node=549028\"\n",
    "headers = {'User-Agent': 'Mozilla/5.0 (X11; Linux x86_64) AppleWebKit/537.36 (KHTML, like Gecko) Chrome/42.0.2311.90 Safari/537.36'}\n",
    "page = requests.get(url,headers = headers) # this is the review page, not the product page\n",
    "\n",
    "parser = html.fromstring(page.text) \n"
   ]
  },
  {
   "cell_type": "code",
   "execution_count": 50,
   "metadata": {
    "collapsed": false
   },
   "outputs": [
    {
     "name": "stdout",
     "output_type": "stream",
     "text": [
      "98 99 98\n"
     ]
    }
   ],
   "source": [
    "# get the review links and product links\n",
    "links_path = parser.xpath('//a[@class=\"a-size-small\"]/@href')\n",
    "\n",
    "# get all the title of books\n",
    "book_titles = parser.xpath('//a[@class=\"a-link-normal\"]//span[@class=\"a-size-small\"]//text()')\n",
    "\n",
    "# get the total number of reviews:\n",
    "review_count = parser.xpath('//span[@class=\"acs_product-rating__review-count\"]//text()')\n",
    "\n",
    "print(len(links_path), len(book_titles), len(review_count))"
   ]
  },
  {
   "cell_type": "code",
   "execution_count": 35,
   "metadata": {
    "collapsed": false
   },
   "outputs": [
    {
     "name": "stdout",
     "output_type": "stream",
     "text": [
      "['82', '178', '578', '125', '236', '3,057', '5,666', '292', '2,453', '201', '74', '4,226', '204', '1,818', '441', '10,641', '3,892', '12,168', '1,737', '3,130', '2,136', '623', '13,103', '929', '15,755', '5,142', '110', '6,446', '3,199', '284', '320', '254', '1,655', '21', '409', '5,989', '115', '1,400', '686', '686', '667', '3,090', '12', '550', '2,497', '2,272', '760', '341', '2,333', '10,792', '2,080', '614', '831', '2,445', '1,487', '11,466', '173', '48', '963', '705', '122', '176', '14', '127', '298', '88', '238', '126', '576', '118', '9,107', '158', '41', '224', '50', '909', '402', '19', '162', '34', '176', '2,590', '455', '1,684', '239', '3,616', '899', '3,418', '788', '10,681', '937', '1,903', '244', '8,204', '206', '389', '31', '2,404']\n"
     ]
    }
   ],
   "source": [
    "print(review_count)"
   ]
  },
  {
   "cell_type": "code",
   "execution_count": 34,
   "metadata": {
    "collapsed": false
   },
   "outputs": [
    {
     "name": "stdout",
     "output_type": "stream",
     "text": [
      "['Lincoln in the Bardo: A Novel', 'Norse Mythology', 'Echoes in Death: An Eve Dallas Novel', 'Heartbreak Hotel: An Alex Delaware Novel', 'Never Never', 'Two by Two', 'The Whistler', 'The Girl Before: A Novel', 'The Underground Railroad : A Novel', 'Right Behind You', 'Gunmetal Gray (Gray Man)', 'Small Great Things: A Novel', 'My Not So Perfect Life: A Novel', 'A Gentleman in Moscow: A Novel', 'The Mistress: A Novel', 'A Man Called Ove: A Novel', \"A Dog's Purpose: A Novel for Humans\", 'The Shack: Where Tragedy Confronts...', 'Milk and Honey', \"The Handmaid's Tale\", 'My Grandmother Asked Me to Tell You...', 'Bullseye (Michael Bennett)', 'Big Little Lies', 'Sting', 'Fifty Shades Darker', 'Hillbilly Elegy: A Memoir of a Family...', \"This Life I Live: One Man's...\", 'Killing the Rising Sun: How America...', 'The Magnolia Story', 'Big Agenda: President Trump’s Plan to...', 'The Book of Joy: Lasting Happiness in...', 'Three Days in January: Dwight...', 'Born a Crime: Stories from a South...', 'You Are the Universe: Discovering...', 'Thank You for Being Late: An...', 'When Breath Becomes Air', 'Tears We Cannot Stop: A Sermon to...', 'Hamilton: The Revolution', 'The Undoing Project: A Friendship...', 'Hidden Figures: The American Dream...', \"The Zookeeper's Wife: A War Story\", 'Alexander Hamilton', 'I Am Not Your Negro: A Companion...', 'A Long Way Home: A Memoir', 'Thinking, Fast and Slow', 'Just Mercy: A Story of Justice and...', 'We Should All Be Feminists', 'Originals: How Non-Conformists Move...', 'The New Jim Crow:  Mass Incarceration...', 'The 5 Love Languages: The Secret to...', 'You Are a Badass: How to Stop...', 'The Lose Your Belly Diet: Change Your...', 'The Subtle Art of Not Giving a F*ck...', 'The Whole30: The 30-Day Guide to...', 'Tools of Titans: The Tactics...', 'The Life-Changing Magic of Tidying Up...', 'The Whole30 Cookbook: 150 Delicious...', 'The Little Book of Hygge: Danish...', 'Uninvited: Living Loved When You Feel...', 'Everything, Everything', 'Carve the Mark', 'Caraval', 'The Last of August', 'Courage to Soar: A Body in Motion, A...', 'Heartless', 'Scythe (Arc of a Scythe)', 'The Sun Is Also a Star (Yoon, Nicola)', 'Frostblood (The Frostblood Saga)', 'This Is Where It Ends', 'Dog Man Unleashed : From the Creator...', 'Wonder', 'The Girl Who Drank the Moon', 'Beauty and the Beast: Lost in a Book', 'Dog Man: From the Creator of Captain...', 'Word of Mouse', 'Gravity Falls: Journal 3', 'Pax', 'The Playbook: 52 Rules to Aim, Shoot...', 'Women in Science: 50 Fearless...', 'Mighty, Mighty Construction Site', 'Love from The Very Hungry Caterpillar', 'Goodnight, Goodnight Construction Site', \"Pete the Cat: Valentine's Day Is Cool\", 'Dragons Love Tacos', 'Ada Twist, Scientist', 'The Book with No Pictures', 'The Wonderful Things You Will Be', 'The Day the Crayons Quit', 'Rosie Revere, Engineer', 'Harry Potter and the Cursed Child...', 'Diary of a Wimpy Kid # 11: Double Down', 'Red Queen', 'Dork Diaries 11: Tales from a...', \"Miss Peregrine's Home for Peculiar...\", 'House of Robots', 'Middle School: Escape to Australia', 'The Complete Wreck', 'The Land of Stories Hardcover Gift Set', 'Throne of Glass']\n"
     ]
    }
   ],
   "source": [
    "print(book_titles)"
   ]
  },
  {
   "cell_type": "code",
   "execution_count": 38,
   "metadata": {
    "collapsed": false
   },
   "outputs": [
    {
     "data": {
      "text/plain": [
       "99"
      ]
     },
     "execution_count": 38,
     "metadata": {},
     "output_type": "execute_result"
    }
   ],
   "source": [
    "len(pd.Series(book_titles).unique())"
   ]
  },
  {
   "cell_type": "code",
   "execution_count": 51,
   "metadata": {
    "collapsed": false
   },
   "outputs": [
    {
     "data": {
      "text/plain": [
       "95"
      ]
     },
     "execution_count": 51,
     "metadata": {},
     "output_type": "execute_result"
    }
   ],
   "source": [
    " book_titles.index('Middle School: Escape to Australia')\n",
    "\n"
   ]
  },
  {
   "cell_type": "code",
   "execution_count": 60,
   "metadata": {
    "collapsed": false
   },
   "outputs": [
    {
     "name": "stdout",
     "output_type": "stream",
     "text": [
      "['Lincoln in the Bardo: A Novel', 'Norse Mythology', 'Echoes in Death: An Eve Dallas Novel', 'Heartbreak Hotel: An Alex Delaware Novel', 'Never Never', 'Two by Two', 'The Whistler', 'The Girl Before: A Novel', 'The Underground Railroad : A Novel', 'Right Behind You', 'Gunmetal Gray (Gray Man)', 'Small Great Things: A Novel', 'My Not So Perfect Life: A Novel', 'A Gentleman in Moscow: A Novel', 'The Mistress: A Novel', 'A Man Called Ove: A Novel', \"A Dog's Purpose: A Novel for Humans\", 'The Shack: Where Tragedy Confronts...', 'Milk and Honey', \"The Handmaid's Tale\", 'My Grandmother Asked Me to Tell You...', 'Bullseye (Michael Bennett)', 'Big Little Lies', 'Sting', 'Fifty Shades Darker', 'Hillbilly Elegy: A Memoir of a Family...', \"This Life I Live: One Man's...\", 'Killing the Rising Sun: How America...', 'The Magnolia Story', 'Big Agenda: President Trump’s Plan to...', 'The Book of Joy: Lasting Happiness in...', 'Three Days in January: Dwight...', 'Born a Crime: Stories from a South...', 'You Are the Universe: Discovering...', 'Thank You for Being Late: An...', 'When Breath Becomes Air', 'Tears We Cannot Stop: A Sermon to...', 'Hamilton: The Revolution', 'The Undoing Project: A Friendship...', 'Hidden Figures: The American Dream...', \"The Zookeeper's Wife: A War Story\", 'Alexander Hamilton', 'I Am Not Your Negro: A Companion...', 'A Long Way Home: A Memoir', 'Thinking, Fast and Slow', 'Just Mercy: A Story of Justice and...', 'We Should All Be Feminists', 'Originals: How Non-Conformists Move...', 'The New Jim Crow:  Mass Incarceration...', 'The 5 Love Languages: The Secret to...', 'You Are a Badass: How to Stop...', 'The Lose Your Belly Diet: Change Your...', 'The Subtle Art of Not Giving a F*ck...', 'The Whole30: The 30-Day Guide to...', 'Tools of Titans: The Tactics...', 'The Life-Changing Magic of Tidying Up...', 'The Whole30 Cookbook: 150 Delicious...', 'The Little Book of Hygge: Danish...', 'Uninvited: Living Loved When You Feel...', 'Everything, Everything', 'Carve the Mark', 'Caraval', 'The Last of August', 'Courage to Soar: A Body in Motion, A...', 'Heartless', 'Scythe (Arc of a Scythe)', 'The Sun Is Also a Star (Yoon, Nicola)', 'Frostblood (The Frostblood Saga)', 'This Is Where It Ends', 'Dog Man Unleashed : From the Creator...', 'Wonder', 'The Girl Who Drank the Moon', 'Beauty and the Beast: Lost in a Book', 'Dog Man: From the Creator of Captain...', 'Word of Mouse', 'Gravity Falls: Journal 3', 'Pax', 'The Playbook: 52 Rules to Aim, Shoot...', 'Women in Science: 50 Fearless...', 'Mighty, Mighty Construction Site', 'Love from The Very Hungry Caterpillar', 'Goodnight, Goodnight Construction Site', \"Pete the Cat: Valentine's Day Is Cool\", 'Dragons Love Tacos', 'Ada Twist, Scientist', 'The Book with No Pictures', 'The Wonderful Things You Will Be', 'The Day the Crayons Quit', 'Rosie Revere, Engineer', 'Harry Potter and the Cursed Child...', 'Diary of a Wimpy Kid # 11: Double Down', 'Red Queen', 'Dork Diaries 11: Tales from a...', \"Miss Peregrine's Home for Peculiar...\", 'House of Robots', 'The Complete Wreck', 'The Land of Stories Hardcover Gift Set', 'Throne of Glass']\n"
     ]
    },
    {
     "data": {
      "text/plain": [
       "98"
      ]
     },
     "execution_count": 60,
     "metadata": {},
     "output_type": "execute_result"
    }
   ],
   "source": [
    "#book_titles.pop([95])\n",
    "del book_titles[95] #modifying \n",
    "print(book_titles)\n",
    "len(book_titles)"
   ]
  },
  {
   "cell_type": "code",
   "execution_count": 58,
   "metadata": {
    "collapsed": false
   },
   "outputs": [
    {
     "ename": "TypeError",
     "evalue": "'int' object is not iterable",
     "output_type": "error",
     "traceback": [
      "\u001b[0;31m---------------------------------------------------------------------------\u001b[0m",
      "\u001b[0;31mTypeError\u001b[0m                                 Traceback (most recent call last)",
      "\u001b[0;32m<ipython-input-58-5aa92ce7af00>\u001b[0m in \u001b[0;36m<module>\u001b[0;34m()\u001b[0m\n\u001b[1;32m      1\u001b[0m \u001b[0mt\u001b[0m\u001b[0;34m=\u001b[0m\u001b[0;34m[\u001b[0m\u001b[0;34m]\u001b[0m\u001b[0;34m\u001b[0m\u001b[0m\n\u001b[1;32m      2\u001b[0m \u001b[0;32mfor\u001b[0m \u001b[0mi\u001b[0m \u001b[0;32min\u001b[0m \u001b[0mrange\u001b[0m\u001b[0;34m(\u001b[0m\u001b[0;36m5\u001b[0m\u001b[0;34m)\u001b[0m\u001b[0;34m:\u001b[0m\u001b[0;34m\u001b[0m\u001b[0m\n\u001b[0;32m----> 3\u001b[0;31m     \u001b[0mt\u001b[0m\u001b[0;34m+=\u001b[0m \u001b[0mi\u001b[0m\u001b[0;34m\u001b[0m\u001b[0m\n\u001b[0m",
      "\u001b[0;31mTypeError\u001b[0m: 'int' object is not iterable"
     ]
    }
   ],
   "source": [
    "t=[]\n",
    "for i in range(5):\n",
    "    t+= i"
   ]
  },
  {
   "cell_type": "code",
   "execution_count": 62,
   "metadata": {
    "collapsed": false
   },
   "outputs": [
    {
     "name": "stdout",
     "output_type": "stream",
     "text": [
      "[0, 1, 2, 3, 4]\n"
     ]
    }
   ],
   "source": [
    "t=list()\n",
    "for i in range(5):\n",
    "     t.append(i)\n",
    "        \n",
    "print(t)"
   ]
  },
  {
   "cell_type": "code",
   "execution_count": 40,
   "metadata": {
    "collapsed": false
   },
   "outputs": [
    {
     "name": "stdout",
     "output_type": "stream",
     "text": [
      "77\n"
     ]
    }
   ],
   "source": [
    "# get the author's name\n",
    "author_name = parser.xpath('//div[@class=\"a-row a-color-secondary a-size-small acs_product-metadata__contributors\"]//a[@class=\"a-link-child\"]//text()')\n",
    "print(len(author_name))\n",
    "#print(author_name)"
   ]
  },
  {
   "cell_type": "code",
   "execution_count": 69,
   "metadata": {
    "collapsed": false
   },
   "outputs": [],
   "source": [
    "best_seller = pd.DataFrame({'title': book_titles,\n",
    "                         'review_count':review_count,\n",
    "                         'list_name': ['best_seller'] * len(book_titles),\n",
    "                         'url': links_path})\n",
    "best_seller['ASIN'] = best_seller.url.str[20:30]\n",
    "best_seller.to_csv('best_seller_meta.csv', sep='\\t')"
   ]
  },
  {
   "cell_type": "code",
   "execution_count": 72,
   "metadata": {
    "collapsed": true
   },
   "outputs": [],
   "source": [
    "biography = get_list_meta(\"https://www.amazon.com/b/ref=s9_acss_bw_cg_100BksCG_2b1_w?node=11021806011&pf_rd_m=ATVPDKIKX0DER&pf_rd_s=merchandised-search-10&pf_rd_r=GRJQ0PJEZ7AQWA79MG0J&pf_rd_t=101&pf_rd_p=124c53a8-f68c-4c3a-97cb-574b0bdbbe86&pf_rd_i=8994558011\",\n",
    "                         \"biography\")\n"
   ]
  },
  {
   "cell_type": "code",
   "execution_count": 67,
   "metadata": {
    "collapsed": false
   },
   "outputs": [
    {
     "data": {
      "text/html": [
       "<div>\n",
       "<table border=\"1\" class=\"dataframe\">\n",
       "  <thead>\n",
       "    <tr style=\"text-align: right;\">\n",
       "      <th></th>\n",
       "      <th>review_count</th>\n",
       "      <th>title</th>\n",
       "      <th>url</th>\n",
       "      <th>ASIN</th>\n",
       "    </tr>\n",
       "  </thead>\n",
       "  <tbody>\n",
       "    <tr>\n",
       "      <th>0</th>\n",
       "      <td>1,269</td>\n",
       "      <td>A Heartbreaking Work of Staggering...</td>\n",
       "      <td>/gp/product-reviews/0375725784/ref=s9_acsd_al_...</td>\n",
       "      <td>0375725784</td>\n",
       "    </tr>\n",
       "    <tr>\n",
       "      <th>1</th>\n",
       "      <td>1,637</td>\n",
       "      <td>A Long Way Gone: Memoirs of a Boy...</td>\n",
       "      <td>/gp/product-reviews/0374531269/ref=s9_acsd_al_...</td>\n",
       "      <td>0374531269</td>\n",
       "    </tr>\n",
       "    <tr>\n",
       "      <th>2</th>\n",
       "      <td>832</td>\n",
       "      <td>A Moveable Feast: The Restored Edition</td>\n",
       "      <td>/gp/product-reviews/143918271X/ref=s9_acsd_al_...</td>\n",
       "      <td>143918271X</td>\n",
       "    </tr>\n",
       "    <tr>\n",
       "      <th>3</th>\n",
       "      <td>4,196</td>\n",
       "      <td>A Walk in the Woods: Rediscovering...</td>\n",
       "      <td>/gp/product-reviews/0307279464/ref=s9_acsd_al_...</td>\n",
       "      <td>0307279464</td>\n",
       "    </tr>\n",
       "    <tr>\n",
       "      <th>4</th>\n",
       "      <td>375</td>\n",
       "      <td>American Caesar: Douglas MacArthur...</td>\n",
       "      <td>/gp/product-reviews/0316024740/ref=s9_acsd_al_...</td>\n",
       "      <td>0316024740</td>\n",
       "    </tr>\n",
       "  </tbody>\n",
       "</table>\n",
       "</div>"
      ],
      "text/plain": [
       "  review_count                                   title  \\\n",
       "0        1,269   A Heartbreaking Work of Staggering...   \n",
       "1        1,637    A Long Way Gone: Memoirs of a Boy...   \n",
       "2          832  A Moveable Feast: The Restored Edition   \n",
       "3        4,196   A Walk in the Woods: Rediscovering...   \n",
       "4          375   American Caesar: Douglas MacArthur...   \n",
       "\n",
       "                                                 url        ASIN  \n",
       "0  /gp/product-reviews/0375725784/ref=s9_acsd_al_...  0375725784  \n",
       "1  /gp/product-reviews/0374531269/ref=s9_acsd_al_...  0374531269  \n",
       "2  /gp/product-reviews/143918271X/ref=s9_acsd_al_...  143918271X  \n",
       "3  /gp/product-reviews/0307279464/ref=s9_acsd_al_...  0307279464  \n",
       "4  /gp/product-reviews/0316024740/ref=s9_acsd_al_...  0316024740  "
      ]
     },
     "execution_count": 67,
     "metadata": {},
     "output_type": "execute_result"
    }
   ],
   "source": [
    "biography.head()"
   ]
  },
  {
   "cell_type": "code",
   "execution_count": 71,
   "metadata": {
    "collapsed": true
   },
   "outputs": [],
   "source": [
    "young_adult = get_list_meta(\"https://www.amazon.com/b/ref=s9_acss_bw_cg_100BksCG_2c1_w?node=11424451011&pf_rd_m=ATVPDKIKX0DER&pf_rd_s=merchandised-search-10&pf_rd_r=7ED43Z9APJ3A1BXZ1XSK&pf_rd_t=101&pf_rd_p=00b696e0-00a2-44bc-80aa-bde06d99dfa3&pf_rd_i=11021806011\",\n",
    "                         \"young_adult\")"
   ]
  },
  {
   "cell_type": "code",
   "execution_count": 78,
   "metadata": {
    "collapsed": false
   },
   "outputs": [],
   "source": [
    "complete_meta = best_seller.append([lifetime, biography, thriller, children, young_adult])"
   ]
  },
  {
   "cell_type": "code",
   "execution_count": 79,
   "metadata": {
    "collapsed": false
   },
   "outputs": [
    {
     "data": {
      "text/plain": [
       "list_name\n",
       "best_seller     98\n",
       "biography      100\n",
       "children        99\n",
       "lifetime       100\n",
       "thriller       100\n",
       "young_adult    100\n",
       "dtype: int64"
      ]
     },
     "execution_count": 79,
     "metadata": {},
     "output_type": "execute_result"
    }
   ],
   "source": [
    "complete_meta.groupby(complete_meta.list_name).size()"
   ]
  },
  {
   "cell_type": "code",
   "execution_count": 80,
   "metadata": {
    "collapsed": true
   },
   "outputs": [],
   "source": [
    "unique_meta = complete_meta.drop_duplicates('ASIN')"
   ]
  },
  {
   "cell_type": "code",
   "execution_count": 81,
   "metadata": {
    "collapsed": false
   },
   "outputs": [
    {
     "data": {
      "text/plain": [
       "list_name\n",
       "best_seller    98\n",
       "biography      89\n",
       "children       81\n",
       "lifetime       99\n",
       "thriller       96\n",
       "young_adult    82\n",
       "dtype: int64"
      ]
     },
     "execution_count": 81,
     "metadata": {},
     "output_type": "execute_result"
    }
   ],
   "source": [
    "unique_meta.groupby(\"list_name\").size()"
   ]
  },
  {
   "cell_type": "code",
   "execution_count": 83,
   "metadata": {
    "collapsed": true
   },
   "outputs": [],
   "source": [
    "unique_meta.to_csv( 'complete_meta.csv', index=False)"
   ]
  },
  {
   "cell_type": "code",
   "execution_count": 84,
   "metadata": {
    "collapsed": false
   },
   "outputs": [
    {
     "data": {
      "text/plain": [
       "545"
      ]
     },
     "execution_count": 84,
     "metadata": {},
     "output_type": "execute_result"
    }
   ],
   "source": [
    "len(unique_meta)"
   ]
  },
  {
   "cell_type": "code",
   "execution_count": null,
   "metadata": {
    "collapsed": true
   },
   "outputs": [],
   "source": []
  }
 ],
 "metadata": {
  "anaconda-cloud": {},
  "kernelspec": {
   "display_name": "Python [conda root]",
   "language": "python",
   "name": "conda-root-py"
  },
  "language_info": {
   "codemirror_mode": {
    "name": "ipython",
    "version": 3
   },
   "file_extension": ".py",
   "mimetype": "text/x-python",
   "name": "python",
   "nbconvert_exporter": "python",
   "pygments_lexer": "ipython3",
   "version": "3.5.2"
  }
 },
 "nbformat": 4,
 "nbformat_minor": 1
}
